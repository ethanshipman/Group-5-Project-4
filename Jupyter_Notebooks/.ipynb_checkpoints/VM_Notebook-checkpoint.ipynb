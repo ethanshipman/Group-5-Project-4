{
 "cells": [
  {
   "cell_type": "markdown",
   "id": "157e71f1-478c-4cef-92f4-e2fe1fc1a919",
   "metadata": {},
   "source": [
    "# How does the educational background of parents influence the academic performance of students in final exams, as well as their interest in pursuing higher education? Specifically, do students whose parents have higher levels of education (e.g., secondary education or higher) perform better in their final exams compared to those whose parents have lower levels of education? Additionally, do students from higher-educated families demonstrate a stronger interest in pursuing higher education themselves? "
   ]
  },
  {
   "cell_type": "code",
   "execution_count": 1,
   "id": "262e3c2b-9041-45bf-8856-505b63f871c4",
   "metadata": {},
   "outputs": [],
   "source": [
    "import pandas as pd\n",
    "import sqlite3\n",
    "import matplotlib.pyplot as plt\n",
    "import seaborn as sns\n",
    "import joblib\n",
    "\n",
    "from sklearn.model_selection import train_test_split\n",
    "from sklearn.preprocessing import StandardScaler, LabelEncoder\n",
    "from sklearn.linear_model import LogisticRegression\n",
    "from sklearn.tree import DecisionTreeClassifier\n",
    "from sklearn.metrics import accuracy_score, classification_report\n"
   ]
  },
  {
   "cell_type": "code",
   "execution_count": 2,
   "id": "9eb65d63-9e65-4182-8f16-6eb845396331",
   "metadata": {},
   "outputs": [],
   "source": [
    "# Loading data from SQLite DB\n",
    "sqlite_db_path = \"../student_performance.db\"\n",
    "conn = sqlite3.connect(sqlite_db_path)"
   ]
  },
  {
   "cell_type": "code",
   "execution_count": 3,
   "id": "8b3e0892-1e97-4de7-82af-d3bf4362a538",
   "metadata": {},
   "outputs": [
    {
     "name": "stdout",
     "output_type": "stream",
     "text": [
      "          name\n",
      "0  student_mat\n",
      "1  student_por\n"
     ]
    }
   ],
   "source": [
    "conn = sqlite3.connect(sqlite_db_path)\n",
    "query_tables = \"SELECT name FROM sqlite_master WHERE type='table';\"\n",
    "tables = pd.read_sql(query_tables, conn)\n",
    "print(tables)\n"
   ]
  },
  {
   "cell_type": "code",
   "execution_count": 4,
   "id": "7a34bfa2-7b67-46cd-8f97-c894ca30ff32",
   "metadata": {},
   "outputs": [],
   "source": [
    "# Query to fetch data from two tables\n",
    "query_mat = \"SELECT * FROM student_mat\"\n",
    "df_mat = pd.read_sql(query_mat, conn)\n",
    "\n",
    "query_por = \"SELECT * FROM student_por\"\n",
    "df_por = pd.read_sql(query_por, conn)"
   ]
  },
  {
   "cell_type": "code",
   "execution_count": 5,
   "id": "f91e4284-4af1-4e1c-b311-46e9ec6b8a18",
   "metadata": {},
   "outputs": [
    {
     "name": "stdout",
     "output_type": "stream",
     "text": [
      "Loaded Data Preview (Merged Student Data):\n"
     ]
    },
    {
     "data": {
      "text/html": [
       "<div>\n",
       "<style scoped>\n",
       "    .dataframe tbody tr th:only-of-type {\n",
       "        vertical-align: middle;\n",
       "    }\n",
       "\n",
       "    .dataframe tbody tr th {\n",
       "        vertical-align: top;\n",
       "    }\n",
       "\n",
       "    .dataframe thead th {\n",
       "        text-align: right;\n",
       "    }\n",
       "</style>\n",
       "<table border=\"1\" class=\"dataframe\">\n",
       "  <thead>\n",
       "    <tr style=\"text-align: right;\">\n",
       "      <th></th>\n",
       "      <th>school</th>\n",
       "      <th>sex</th>\n",
       "      <th>age</th>\n",
       "      <th>address</th>\n",
       "      <th>famsize</th>\n",
       "      <th>Pstatus</th>\n",
       "      <th>Medu</th>\n",
       "      <th>Fedu</th>\n",
       "      <th>Mjob</th>\n",
       "      <th>Fjob</th>\n",
       "      <th>...</th>\n",
       "      <th>famrel</th>\n",
       "      <th>freetime</th>\n",
       "      <th>goout</th>\n",
       "      <th>Dalc</th>\n",
       "      <th>Walc</th>\n",
       "      <th>health</th>\n",
       "      <th>absences</th>\n",
       "      <th>G1</th>\n",
       "      <th>G2</th>\n",
       "      <th>G3</th>\n",
       "    </tr>\n",
       "  </thead>\n",
       "  <tbody>\n",
       "    <tr>\n",
       "      <th>0</th>\n",
       "      <td>GP</td>\n",
       "      <td>F</td>\n",
       "      <td>18</td>\n",
       "      <td>U</td>\n",
       "      <td>GT3</td>\n",
       "      <td>A</td>\n",
       "      <td>4</td>\n",
       "      <td>4</td>\n",
       "      <td>at_home</td>\n",
       "      <td>teacher</td>\n",
       "      <td>...</td>\n",
       "      <td>4</td>\n",
       "      <td>3</td>\n",
       "      <td>4</td>\n",
       "      <td>1</td>\n",
       "      <td>1</td>\n",
       "      <td>3</td>\n",
       "      <td>6</td>\n",
       "      <td>5</td>\n",
       "      <td>6</td>\n",
       "      <td>6</td>\n",
       "    </tr>\n",
       "    <tr>\n",
       "      <th>1</th>\n",
       "      <td>GP</td>\n",
       "      <td>F</td>\n",
       "      <td>17</td>\n",
       "      <td>U</td>\n",
       "      <td>GT3</td>\n",
       "      <td>T</td>\n",
       "      <td>1</td>\n",
       "      <td>1</td>\n",
       "      <td>at_home</td>\n",
       "      <td>other</td>\n",
       "      <td>...</td>\n",
       "      <td>5</td>\n",
       "      <td>3</td>\n",
       "      <td>3</td>\n",
       "      <td>1</td>\n",
       "      <td>1</td>\n",
       "      <td>3</td>\n",
       "      <td>4</td>\n",
       "      <td>5</td>\n",
       "      <td>5</td>\n",
       "      <td>6</td>\n",
       "    </tr>\n",
       "    <tr>\n",
       "      <th>2</th>\n",
       "      <td>GP</td>\n",
       "      <td>F</td>\n",
       "      <td>15</td>\n",
       "      <td>U</td>\n",
       "      <td>LE3</td>\n",
       "      <td>T</td>\n",
       "      <td>1</td>\n",
       "      <td>1</td>\n",
       "      <td>at_home</td>\n",
       "      <td>other</td>\n",
       "      <td>...</td>\n",
       "      <td>4</td>\n",
       "      <td>3</td>\n",
       "      <td>2</td>\n",
       "      <td>2</td>\n",
       "      <td>3</td>\n",
       "      <td>3</td>\n",
       "      <td>10</td>\n",
       "      <td>7</td>\n",
       "      <td>8</td>\n",
       "      <td>10</td>\n",
       "    </tr>\n",
       "    <tr>\n",
       "      <th>3</th>\n",
       "      <td>GP</td>\n",
       "      <td>F</td>\n",
       "      <td>15</td>\n",
       "      <td>U</td>\n",
       "      <td>GT3</td>\n",
       "      <td>T</td>\n",
       "      <td>4</td>\n",
       "      <td>2</td>\n",
       "      <td>health</td>\n",
       "      <td>services</td>\n",
       "      <td>...</td>\n",
       "      <td>3</td>\n",
       "      <td>2</td>\n",
       "      <td>2</td>\n",
       "      <td>1</td>\n",
       "      <td>1</td>\n",
       "      <td>5</td>\n",
       "      <td>2</td>\n",
       "      <td>15</td>\n",
       "      <td>14</td>\n",
       "      <td>15</td>\n",
       "    </tr>\n",
       "    <tr>\n",
       "      <th>4</th>\n",
       "      <td>GP</td>\n",
       "      <td>F</td>\n",
       "      <td>16</td>\n",
       "      <td>U</td>\n",
       "      <td>GT3</td>\n",
       "      <td>T</td>\n",
       "      <td>3</td>\n",
       "      <td>3</td>\n",
       "      <td>other</td>\n",
       "      <td>other</td>\n",
       "      <td>...</td>\n",
       "      <td>4</td>\n",
       "      <td>3</td>\n",
       "      <td>2</td>\n",
       "      <td>1</td>\n",
       "      <td>2</td>\n",
       "      <td>5</td>\n",
       "      <td>4</td>\n",
       "      <td>6</td>\n",
       "      <td>10</td>\n",
       "      <td>10</td>\n",
       "    </tr>\n",
       "  </tbody>\n",
       "</table>\n",
       "<p>5 rows × 33 columns</p>\n",
       "</div>"
      ],
      "text/plain": [
       "  school sex  age address famsize Pstatus  Medu  Fedu     Mjob      Fjob  ...  \\\n",
       "0     GP   F   18       U     GT3       A     4     4  at_home   teacher  ...   \n",
       "1     GP   F   17       U     GT3       T     1     1  at_home     other  ...   \n",
       "2     GP   F   15       U     LE3       T     1     1  at_home     other  ...   \n",
       "3     GP   F   15       U     GT3       T     4     2   health  services  ...   \n",
       "4     GP   F   16       U     GT3       T     3     3    other     other  ...   \n",
       "\n",
       "  famrel freetime  goout  Dalc  Walc health absences  G1  G2  G3  \n",
       "0      4        3      4     1     1      3        6   5   6   6  \n",
       "1      5        3      3     1     1      3        4   5   5   6  \n",
       "2      4        3      2     2     3      3       10   7   8  10  \n",
       "3      3        2      2     1     1      5        2  15  14  15  \n",
       "4      4        3      2     1     2      5        4   6  10  10  \n",
       "\n",
       "[5 rows x 33 columns]"
      ]
     },
     "metadata": {},
     "output_type": "display_data"
    }
   ],
   "source": [
    "# Combining the two datasets\n",
    "df = pd.concat([df_mat, df_por], ignore_index=True)\n",
    "conn.close()\n",
    "\n",
    "print(\"Loaded Data Preview (Merged Student Data):\")\n",
    "display(df.head())"
   ]
  },
  {
   "cell_type": "code",
   "execution_count": 6,
   "id": "c200e47a-7875-48c0-be56-5e24a3571a68",
   "metadata": {},
   "outputs": [],
   "source": [
    "# Data Preprocessing\n",
    "df = df.dropna(subset=['G3'])  # Remove rows with missing final exam scores\n",
    "\n",
    "# Encoding categorical features\n",
    "label_encoders = {}\n",
    "for col in df.select_dtypes(include=['object']).columns:\n",
    "    le = LabelEncoder()\n",
    "    df[col] = le.fit_transform(df[col])\n",
    "    label_encoders[col] = le"
   ]
  },
  {
   "cell_type": "code",
   "execution_count": 7,
   "id": "ed34a4a9-799c-45a5-a107-79f0a9255abb",
   "metadata": {},
   "outputs": [],
   "source": [
    "# Normalizing numerical features (excluding grade columns)\n",
    "scaler = StandardScaler()\n",
    "numeric_cols = df.select_dtypes(include=['int64', 'float64']).columns\n",
    "grade_cols = ['G1', 'G2', 'G3']\n",
    "numeric_cols = [col for col in numeric_cols if col not in grade_cols]\n",
    "df[numeric_cols] = scaler.fit_transform(df[numeric_cols])"
   ]
  },
  {
   "cell_type": "code",
   "execution_count": 8,
   "id": "501136dd-e88e-46c0-bf98-51e43329d7c9",
   "metadata": {},
   "outputs": [],
   "source": [
    "# Feature Engineering\n",
    "df['sudden_grade_drop'] = df['G1'] - df['G2']\n",
    "df['attendance_engagement'] = df['absences'] / (df['G1'] + df['G2'] + df['G3'] + 1)\n",
    "df['low_engagement_flag'] = (df['attendance_engagement'] > df['attendance_engagement'].quantile(0.75)).astype(int)\n"
   ]
  },
  {
   "cell_type": "code",
   "execution_count": 9,
   "id": "8ee3d56b-a83e-4bb4-b59d-e085a3e0b78f",
   "metadata": {},
   "outputs": [],
   "source": [
    "# Categorizing the final grades into three categories\n",
    "def categorize_g3(grade):\n",
    "    if grade < 10:\n",
    "        return 0  # Low\n",
    "    elif 10 <= grade < 15:\n",
    "        return 1  # Medium\n",
    "    else:\n",
    "        return 2  # High\n",
    "\n",
    "df['G3_category'] = df['G3'].apply(categorize_g3)"
   ]
  },
  {
   "cell_type": "code",
   "execution_count": 10,
   "id": "bc033713-d840-4ecb-857e-c8fb74e76947",
   "metadata": {},
   "outputs": [],
   "source": [
    "# Defining features and target variable\n",
    "X = df.drop(columns=['G3', 'G3_category'])\n",
    "y = df['G3_category']\n",
    "\n",
    "# Splitting the data into training and testing sets\n",
    "X_train, X_test, y_train, y_test = train_test_split(\n",
    "    X, y, test_size=0.2, random_state=42, stratify=y\n",
    ")\n"
   ]
  },
  {
   "cell_type": "code",
   "execution_count": 11,
   "id": "b37edf0e-dd28-4d90-a72a-0231f76e73a3",
   "metadata": {},
   "outputs": [
    {
     "name": "stdout",
     "output_type": "stream",
     "text": [
      "Logistic Regression Model Evaluation:\n",
      "Accuracy: 0.8755980861244019\n",
      "Classification Report:\n",
      "              precision    recall  f1-score   support\n",
      "\n",
      "           0       0.86      0.83      0.84        46\n",
      "           1       0.89      0.90      0.89       122\n",
      "           2       0.85      0.85      0.85        41\n",
      "\n",
      "    accuracy                           0.88       209\n",
      "   macro avg       0.87      0.86      0.86       209\n",
      "weighted avg       0.88      0.88      0.88       209\n",
      "\n"
     ]
    }
   ],
   "source": [
    "# Baseline Logistic Regression Model\n",
    "log_model = LogisticRegression(max_iter=1000, multi_class='multinomial', solver='lbfgs')\n",
    "log_model.fit(X_train, y_train)\n",
    "y_pred_log = log_model.predict(X_test)\n",
    "log_accuracy = accuracy_score(y_test, y_pred_log)\n",
    "\n",
    "# Logistic Regression Model Evaluation\n",
    "print(\"Logistic Regression Model Evaluation:\")\n",
    "print(\"Accuracy:\", log_accuracy)\n",
    "print(\"Classification Report:\")\n",
    "print(classification_report(y_test, y_pred_log))"
   ]
  },
  {
   "cell_type": "code",
   "execution_count": 12,
   "id": "5e65e366-0d1d-45c3-a159-f7cad2c7fef8",
   "metadata": {},
   "outputs": [
    {
     "name": "stdout",
     "output_type": "stream",
     "text": [
      "Decision Tree Model Evaluation:\n",
      "Accuracy: 0.8038277511961722\n",
      "Classification Report:\n",
      "              precision    recall  f1-score   support\n",
      "\n",
      "           0       0.71      0.78      0.74        46\n",
      "           1       0.84      0.82      0.83       122\n",
      "           2       0.82      0.78      0.80        41\n",
      "\n",
      "    accuracy                           0.80       209\n",
      "   macro avg       0.79      0.79      0.79       209\n",
      "weighted avg       0.81      0.80      0.80       209\n",
      "\n"
     ]
    }
   ],
   "source": [
    "# Baseline Decision Tree Model\n",
    "tree_model = DecisionTreeClassifier(random_state=42)\n",
    "tree_model.fit(X_train, y_train)\n",
    "y_pred_tree = tree_model.predict(X_test)\n",
    "tree_accuracy = accuracy_score(y_test, y_pred_tree)\n",
    "\n",
    "# Decision Tree Model Evaluation\n",
    "print(\"Decision Tree Model Evaluation:\")\n",
    "print(\"Accuracy:\", tree_accuracy)\n",
    "print(\"Classification Report:\")\n",
    "print(classification_report(y_test, y_pred_tree))"
   ]
  },
  {
   "cell_type": "code",
   "execution_count": 13,
   "id": "d9f6ef4a-4c63-4e36-ac2a-574f7f236586",
   "metadata": {},
   "outputs": [],
   "source": [
    "# Drop rows with missing target values (G3, the final grade)\n",
    "df = df.dropna(subset=['G3'])\n",
    "\n",
    "# Encode categorical variables (e.g., parents' education level)\n",
    "df['Medu_level'] = df['Medu'].apply(lambda x: 'None' if x == 0 else ('Primary' if x == 1 else ('Secondary' if x == 2 else 'Higher')))\n",
    "df['Fedu_level'] = df['Fedu'].apply(lambda x: 'None' if x == 0 else ('Primary' if x == 1 else ('Secondary' if x == 2 else 'Higher')))\n"
   ]
  },
  {
   "cell_type": "code",
   "execution_count": 14,
   "id": "289f01b0-659f-4307-853f-380fdaf2a94c",
   "metadata": {},
   "outputs": [
    {
     "data": {
      "text/plain": [
       "(Medu_level\n",
       " Higher    1044\n",
       " Name: count, dtype: int64,\n",
       " Fedu_level\n",
       " Higher    1044\n",
       " Name: count, dtype: int64)"
      ]
     },
     "execution_count": 14,
     "metadata": {},
     "output_type": "execute_result"
    }
   ],
   "source": [
    "# Check if the target variable (final grade) has missing values\n",
    "df['Medu_level'].value_counts(), df['Fedu_level'].value_counts()"
   ]
  },
  {
   "cell_type": "code",
   "execution_count": 15,
   "id": "7f6095e1-e7ba-4477-9364-d3df271abcbb",
   "metadata": {},
   "outputs": [
    {
     "data": {
      "image/png": "[encoded data removed]",
      "text/plain": [
       "<Figure size 1000x600 with 1 Axes>"
      ]
     },
     "metadata": {},
     "output_type": "display_data"
    }
   ],
   "source": [
    "# Plotting the correlation between parental education and student performance\n",
    "plt.figure(figsize=(10, 6))\n",
    "\n",
    "# Plotting G3 vs Medu (Mother's education)\n",
    "sns.boxplot(x='Medu_level', y='G3', data=df)\n",
    "plt.title('Mother\\'s Education vs Final Grade (G3)')\n",
    "plt.show()"
   ]
  },
  {
   "cell_type": "code",
   "execution_count": 16,
   "id": "614acbc3-156a-4407-9226-39f823ac738f",
   "metadata": {},
   "outputs": [
    {
     "data": {
      "image/png": "[encoded data removed]",
      "text/plain": [
       "<Figure size 1000x600 with 1 Axes>"
      ]
     },
     "metadata": {},
     "output_type": "display_data"
    }
   ],
   "source": [
    "# Plotting G3 vs Fedu (Father's education)\n",
    "plt.figure(figsize=(10, 6))\n",
    "sns.boxplot(x='Fedu_level', y='G3', data=df)\n",
    "plt.title('Father\\'s Education vs Final Grade (G3)')\n",
    "plt.show()"
   ]
  },
  {
   "cell_type": "code",
   "execution_count": 17,
   "id": "c41b741e-b2ad-493c-b26c-c7680733cbd1",
   "metadata": {},
   "outputs": [
    {
     "data": {
      "image/png": "[encoded data removed]",
      "text/plain": [
       "<Figure size 1000x600 with 1 Axes>"
      ]
     },
     "metadata": {},
     "output_type": "display_data"
    }
   ],
   "source": [
    "# Analyzing if students from higher-educated families are more likely to pursue higher education (assuming higher education is categorized in a binary format)\n",
    "df['higher_education'] = df['G3'] >= 15  # assuming students with G3 >= 15 are considered as more likely to pursue higher education\n",
    "\n",
    "# Plotting the data for students' interest in higher education based on parent's education level\n",
    "plt.figure(figsize=(10, 6))\n",
    "sns.countplot(x='Medu_level', hue='higher_education', data=df)\n",
    "plt.title('Interest in Higher Education vs Mother\\'s Education')\n",
    "plt.show()"
   ]
  },
  {
   "cell_type": "code",
   "execution_count": 18,
   "id": "38f77487-6f36-4167-8427-42f1eeeda11c",
   "metadata": {},
   "outputs": [
    {
     "data": {
      "image/png": "[encoded data removed]",
      "text/plain": [
       "<Figure size 1000x600 with 1 Axes>"
      ]
     },
     "metadata": {},
     "output_type": "display_data"
    }
   ],
   "source": [
    "plt.figure(figsize=(10, 6))\n",
    "sns.countplot(x='Fedu_level', hue='higher_education', data=df)\n",
    "plt.title('Interest in Higher Education vs Father\\'s Education')\n",
    "plt.show()"
   ]
  },
  {
   "cell_type": "code",
   "execution_count": 19,
   "id": "f8986831-b835-4d24-a93e-788a2261ce68",
   "metadata": {},
   "outputs": [],
   "source": [
    "# Encoding categorical features for modeling\n",
    "df_encoded = pd.get_dummies(df[['Medu_level', 'Fedu_level', 'G1', 'G2', 'absences']], drop_first=True)\n",
    "\n",
    "# Target variable: whether the student is interested in higher education (G3 >= 15)\n",
    "y = (df['G3'] >= 15).astype(int)\n",
    "\n",
    "# Splitting the data into training and testing sets\n",
    "X_train, X_test, y_train, y_test = train_test_split(df_encoded, y, test_size=0.2, random_state=42)\n"
   ]
  },
  {
   "cell_type": "code",
   "execution_count": 20,
   "id": "2112744f-9ccd-491d-ae5d-7618265de9ff",
   "metadata": {},
   "outputs": [
    {
     "name": "stdout",
     "output_type": "stream",
     "text": [
      "Logistic Regression Model Evaluation:\n",
      "Accuracy: 0.9712918660287081\n",
      "Classification Report:\n",
      "              precision    recall  f1-score   support\n",
      "\n",
      "           0       0.97      1.00      0.98       166\n",
      "           1       1.00      0.86      0.93        43\n",
      "\n",
      "    accuracy                           0.97       209\n",
      "   macro avg       0.98      0.93      0.95       209\n",
      "weighted avg       0.97      0.97      0.97       209\n",
      "\n"
     ]
    }
   ],
   "source": [
    "# Logistic Regression Model\n",
    "log_model = LogisticRegression(max_iter=1000)\n",
    "log_model.fit(X_train, y_train)\n",
    "\n",
    "# Make predictions\n",
    "y_pred_log = log_model.predict(X_test)\n",
    "\n",
    "# Evaluate the Logistic Regression model\n",
    "print(\"Logistic Regression Model Evaluation:\")\n",
    "print(\"Accuracy:\", accuracy_score(y_test, y_pred_log))\n",
    "print(\"Classification Report:\")\n",
    "print(classification_report(y_test, y_pred_log))\n"
   ]
  },
  {
   "cell_type": "code",
   "execution_count": 21,
   "id": "69bbef92-f6e2-494d-beb6-9c116ecd154b",
   "metadata": {},
   "outputs": [
    {
     "name": "stdout",
     "output_type": "stream",
     "text": [
      "Decision Tree Model Evaluation:\n",
      "Accuracy: 0.9712918660287081\n",
      "Classification Report:\n",
      "              precision    recall  f1-score   support\n",
      "\n",
      "           0       0.97      1.00      0.98       166\n",
      "           1       1.00      0.86      0.93        43\n",
      "\n",
      "    accuracy                           0.97       209\n",
      "   macro avg       0.98      0.93      0.95       209\n",
      "weighted avg       0.97      0.97      0.97       209\n",
      "\n"
     ]
    }
   ],
   "source": [
    "# Decision Tree Model\n",
    "tree_model = DecisionTreeClassifier(random_state=42)\n",
    "tree_model.fit(X_train, y_train)\n",
    "\n",
    "# Make predictions\n",
    "y_pred_tree = tree_model.predict(X_test)\n",
    "\n",
    "# Evaluate the Decision Tree model\n",
    "print(\"Decision Tree Model Evaluation:\")\n",
    "print(\"Accuracy:\", accuracy_score(y_test, y_pred_tree))\n",
    "print(\"Classification Report:\")\n",
    "print(classification_report(y_test, y_pred_tree))"
   ]
  }
 ],
 "metadata": {
  "kernelspec": {
   "display_name": "Python 3 (ipykernel)",
   "language": "python",
   "name": "python3"
  },
  "language_info": {
   "codemirror_mode": {
    "name": "ipython",
    "version": 3
   },
   "file_extension": ".py",
   "mimetype": "text/x-python",
   "name": "python",
   "nbconvert_exporter": "python",
   "pygments_lexer": "ipython3",
   "version": "3.10.15"
  }
 },
 "nbformat": 4,
 "nbformat_minor": 5
}
