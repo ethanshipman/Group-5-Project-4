{
 "cells": [
  {
   "cell_type": "markdown",
   "metadata": {},
   "source": [
    "# Model Optimization and Data Visualization\n",
    "## Hannah Miles-Kingrey"
   ]
  },
  {
   "cell_type": "code",
   "execution_count": 1,
   "metadata": {},
   "outputs": [],
   "source": [
    "import pandas as pd\n",
    "import sqlite3\n",
    "from sklearn.model_selection import train_test_split\n",
    "from sklearn.preprocessing import StandardScaler, LabelEncoder\n",
    "from sklearn.linear_model import LogisticRegression\n",
    "from sklearn.tree import DecisionTreeClassifier\n",
    "from sklearn.metrics import accuracy_score, classification_report\n",
    "import matplotlib.pyplot as plt\n",
    "\n"
   ]
  },
  {
   "cell_type": "code",
   "execution_count": 2,
   "metadata": {},
   "outputs": [],
   "source": [
    "#loading db\n",
    "sqlite_db_path = \"../student_performance.db\"\n",
    "conn = sqlite3.connect(sqlite_db_path)\n",
    "\n",
    "query_mat = \"SELECT * FROM student_mat\"\n",
    "df_mat = pd.read_sql(query_mat, conn)\n",
    "\n",
    "query_por = \"SELECT * FROM student_por\"\n",
    "df_por = pd.read_sql(query_por, conn)\n",
    "\n",
    "# combining the two in the db\n",
    "df = pd.concat([df_mat, df_por], ignore_index=True)\n",
    "\n",
    "conn.close()"
   ]
  },
  {
   "cell_type": "code",
   "execution_count": 3,
   "metadata": {},
   "outputs": [
    {
     "name": "stdout",
     "output_type": "stream",
     "text": [
      "Loaded Data Preview (Merged Student Data):\n"
     ]
    },
    {
     "data": {
      "application/vnd.microsoft.datawrangler.viewer.v0+json": {
       "columns": [
        {
         "name": "index",
         "rawType": "int64",
         "type": "integer"
        },
        {
         "name": "school",
         "rawType": "object",
         "type": "string"
        },
        {
         "name": "sex",
         "rawType": "object",
         "type": "string"
        },
        {
         "name": "age",
         "rawType": "int64",
         "type": "integer"
        },
        {
         "name": "address",
         "rawType": "object",
         "type": "string"
        },
        {
         "name": "famsize",
         "rawType": "object",
         "type": "string"
        },
        {
         "name": "Pstatus",
         "rawType": "object",
         "type": "string"
        },
        {
         "name": "Medu",
         "rawType": "int64",
         "type": "integer"
        },
        {
         "name": "Fedu",
         "rawType": "int64",
         "type": "integer"
        },
        {
         "name": "Mjob",
         "rawType": "object",
         "type": "string"
        },
        {
         "name": "Fjob",
         "rawType": "object",
         "type": "string"
        },
        {
         "name": "reason",
         "rawType": "object",
         "type": "string"
        },
        {
         "name": "guardian",
         "rawType": "object",
         "type": "string"
        },
        {
         "name": "traveltime",
         "rawType": "int64",
         "type": "integer"
        },
        {
         "name": "studytime",
         "rawType": "int64",
         "type": "integer"
        },
        {
         "name": "failures",
         "rawType": "int64",
         "type": "integer"
        },
        {
         "name": "schoolsup",
         "rawType": "object",
         "type": "string"
        },
        {
         "name": "famsup",
         "rawType": "object",
         "type": "string"
        },
        {
         "name": "paid",
         "rawType": "object",
         "type": "string"
        },
        {
         "name": "activities",
         "rawType": "object",
         "type": "string"
        },
        {
         "name": "nursery",
         "rawType": "object",
         "type": "string"
        },
        {
         "name": "higher",
         "rawType": "object",
         "type": "string"
        },
        {
         "name": "internet",
         "rawType": "object",
         "type": "string"
        },
        {
         "name": "romantic",
         "rawType": "object",
         "type": "string"
        },
        {
         "name": "famrel",
         "rawType": "int64",
         "type": "integer"
        },
        {
         "name": "freetime",
         "rawType": "int64",
         "type": "integer"
        },
        {
         "name": "goout",
         "rawType": "int64",
         "type": "integer"
        },
        {
         "name": "Dalc",
         "rawType": "int64",
         "type": "integer"
        },
        {
         "name": "Walc",
         "rawType": "int64",
         "type": "integer"
        },
        {
         "name": "health",
         "rawType": "int64",
         "type": "integer"
        },
        {
         "name": "absences",
         "rawType": "int64",
         "type": "integer"
        },
        {
         "name": "G1",
         "rawType": "int64",
         "type": "integer"
        },
        {
         "name": "G2",
         "rawType": "int64",
         "type": "integer"
        },
        {
         "name": "G3",
         "rawType": "int64",
         "type": "integer"
        }
       ],
       "conversionMethod": "pd.DataFrame",
       "ref": "97a2615f-9714-4370-a82b-78c391cea417",
       "rows": [
        [
         "0",
         "GP",
         "F",
         "18",
         "U",
         "GT3",
         "A",
         "4",
         "4",
         "at_home",
         "teacher",
         "course",
         "mother",
         "2",
         "2",
         "0",
         "yes",
         "no",
         "no",
         "no",
         "yes",
         "yes",
         "no",
         "no",
         "4",
         "3",
         "4",
         "1",
         "1",
         "3",
         "6",
         "5",
         "6",
         "6"
        ],
        [
         "1",
         "GP",
         "F",
         "17",
         "U",
         "GT3",
         "T",
         "1",
         "1",
         "at_home",
         "other",
         "course",
         "father",
         "1",
         "2",
         "0",
         "no",
         "yes",
         "no",
         "no",
         "no",
         "yes",
         "yes",
         "no",
         "5",
         "3",
         "3",
         "1",
         "1",
         "3",
         "4",
         "5",
         "5",
         "6"
        ],
        [
         "2",
         "GP",
         "F",
         "15",
         "U",
         "LE3",
         "T",
         "1",
         "1",
         "at_home",
         "other",
         "other",
         "mother",
         "1",
         "2",
         "3",
         "yes",
         "no",
         "yes",
         "no",
         "yes",
         "yes",
         "yes",
         "no",
         "4",
         "3",
         "2",
         "2",
         "3",
         "3",
         "10",
         "7",
         "8",
         "10"
        ],
        [
         "3",
         "GP",
         "F",
         "15",
         "U",
         "GT3",
         "T",
         "4",
         "2",
         "health",
         "services",
         "home",
         "mother",
         "1",
         "3",
         "0",
         "no",
         "yes",
         "yes",
         "yes",
         "yes",
         "yes",
         "yes",
         "yes",
         "3",
         "2",
         "2",
         "1",
         "1",
         "5",
         "2",
         "15",
         "14",
         "15"
        ],
        [
         "4",
         "GP",
         "F",
         "16",
         "U",
         "GT3",
         "T",
         "3",
         "3",
         "other",
         "other",
         "home",
         "father",
         "1",
         "2",
         "0",
         "no",
         "yes",
         "yes",
         "no",
         "yes",
         "yes",
         "no",
         "no",
         "4",
         "3",
         "2",
         "1",
         "2",
         "5",
         "4",
         "6",
         "10",
         "10"
        ]
       ],
       "shape": {
        "columns": 33,
        "rows": 5
       }
      },
      "text/html": [
       "<div>\n",
       "<style scoped>\n",
       "    .dataframe tbody tr th:only-of-type {\n",
       "        vertical-align: middle;\n",
       "    }\n",
       "\n",
       "    .dataframe tbody tr th {\n",
       "        vertical-align: top;\n",
       "    }\n",
       "\n",
       "    .dataframe thead th {\n",
       "        text-align: right;\n",
       "    }\n",
       "</style>\n",
       "<table border=\"1\" class=\"dataframe\">\n",
       "  <thead>\n",
       "    <tr style=\"text-align: right;\">\n",
       "      <th></th>\n",
       "      <th>school</th>\n",
       "      <th>sex</th>\n",
       "      <th>age</th>\n",
       "      <th>address</th>\n",
       "      <th>famsize</th>\n",
       "      <th>Pstatus</th>\n",
       "      <th>Medu</th>\n",
       "      <th>Fedu</th>\n",
       "      <th>Mjob</th>\n",
       "      <th>Fjob</th>\n",
       "      <th>...</th>\n",
       "      <th>famrel</th>\n",
       "      <th>freetime</th>\n",
       "      <th>goout</th>\n",
       "      <th>Dalc</th>\n",
       "      <th>Walc</th>\n",
       "      <th>health</th>\n",
       "      <th>absences</th>\n",
       "      <th>G1</th>\n",
       "      <th>G2</th>\n",
       "      <th>G3</th>\n",
       "    </tr>\n",
       "  </thead>\n",
       "  <tbody>\n",
       "    <tr>\n",
       "      <th>0</th>\n",
       "      <td>GP</td>\n",
       "      <td>F</td>\n",
       "      <td>18</td>\n",
       "      <td>U</td>\n",
       "      <td>GT3</td>\n",
       "      <td>A</td>\n",
       "      <td>4</td>\n",
       "      <td>4</td>\n",
       "      <td>at_home</td>\n",
       "      <td>teacher</td>\n",
       "      <td>...</td>\n",
       "      <td>4</td>\n",
       "      <td>3</td>\n",
       "      <td>4</td>\n",
       "      <td>1</td>\n",
       "      <td>1</td>\n",
       "      <td>3</td>\n",
       "      <td>6</td>\n",
       "      <td>5</td>\n",
       "      <td>6</td>\n",
       "      <td>6</td>\n",
       "    </tr>\n",
       "    <tr>\n",
       "      <th>1</th>\n",
       "      <td>GP</td>\n",
       "      <td>F</td>\n",
       "      <td>17</td>\n",
       "      <td>U</td>\n",
       "      <td>GT3</td>\n",
       "      <td>T</td>\n",
       "      <td>1</td>\n",
       "      <td>1</td>\n",
       "      <td>at_home</td>\n",
       "      <td>other</td>\n",
       "      <td>...</td>\n",
       "      <td>5</td>\n",
       "      <td>3</td>\n",
       "      <td>3</td>\n",
       "      <td>1</td>\n",
       "      <td>1</td>\n",
       "      <td>3</td>\n",
       "      <td>4</td>\n",
       "      <td>5</td>\n",
       "      <td>5</td>\n",
       "      <td>6</td>\n",
       "    </tr>\n",
       "    <tr>\n",
       "      <th>2</th>\n",
       "      <td>GP</td>\n",
       "      <td>F</td>\n",
       "      <td>15</td>\n",
       "      <td>U</td>\n",
       "      <td>LE3</td>\n",
       "      <td>T</td>\n",
       "      <td>1</td>\n",
       "      <td>1</td>\n",
       "      <td>at_home</td>\n",
       "      <td>other</td>\n",
       "      <td>...</td>\n",
       "      <td>4</td>\n",
       "      <td>3</td>\n",
       "      <td>2</td>\n",
       "      <td>2</td>\n",
       "      <td>3</td>\n",
       "      <td>3</td>\n",
       "      <td>10</td>\n",
       "      <td>7</td>\n",
       "      <td>8</td>\n",
       "      <td>10</td>\n",
       "    </tr>\n",
       "    <tr>\n",
       "      <th>3</th>\n",
       "      <td>GP</td>\n",
       "      <td>F</td>\n",
       "      <td>15</td>\n",
       "      <td>U</td>\n",
       "      <td>GT3</td>\n",
       "      <td>T</td>\n",
       "      <td>4</td>\n",
       "      <td>2</td>\n",
       "      <td>health</td>\n",
       "      <td>services</td>\n",
       "      <td>...</td>\n",
       "      <td>3</td>\n",
       "      <td>2</td>\n",
       "      <td>2</td>\n",
       "      <td>1</td>\n",
       "      <td>1</td>\n",
       "      <td>5</td>\n",
       "      <td>2</td>\n",
       "      <td>15</td>\n",
       "      <td>14</td>\n",
       "      <td>15</td>\n",
       "    </tr>\n",
       "    <tr>\n",
       "      <th>4</th>\n",
       "      <td>GP</td>\n",
       "      <td>F</td>\n",
       "      <td>16</td>\n",
       "      <td>U</td>\n",
       "      <td>GT3</td>\n",
       "      <td>T</td>\n",
       "      <td>3</td>\n",
       "      <td>3</td>\n",
       "      <td>other</td>\n",
       "      <td>other</td>\n",
       "      <td>...</td>\n",
       "      <td>4</td>\n",
       "      <td>3</td>\n",
       "      <td>2</td>\n",
       "      <td>1</td>\n",
       "      <td>2</td>\n",
       "      <td>5</td>\n",
       "      <td>4</td>\n",
       "      <td>6</td>\n",
       "      <td>10</td>\n",
       "      <td>10</td>\n",
       "    </tr>\n",
       "  </tbody>\n",
       "</table>\n",
       "<p>5 rows × 33 columns</p>\n",
       "</div>"
      ],
      "text/plain": [
       "  school sex  age address famsize Pstatus  Medu  Fedu     Mjob      Fjob  ...  \\\n",
       "0     GP   F   18       U     GT3       A     4     4  at_home   teacher  ...   \n",
       "1     GP   F   17       U     GT3       T     1     1  at_home     other  ...   \n",
       "2     GP   F   15       U     LE3       T     1     1  at_home     other  ...   \n",
       "3     GP   F   15       U     GT3       T     4     2   health  services  ...   \n",
       "4     GP   F   16       U     GT3       T     3     3    other     other  ...   \n",
       "\n",
       "  famrel freetime  goout  Dalc  Walc health absences  G1  G2  G3  \n",
       "0      4        3      4     1     1      3        6   5   6   6  \n",
       "1      5        3      3     1     1      3        4   5   5   6  \n",
       "2      4        3      2     2     3      3       10   7   8  10  \n",
       "3      3        2      2     1     1      5        2  15  14  15  \n",
       "4      4        3      2     1     2      5        4   6  10  10  \n",
       "\n",
       "[5 rows x 33 columns]"
      ]
     },
     "metadata": {},
     "output_type": "display_data"
    }
   ],
   "source": [
    "print(\"Loaded Data Preview (Merged Student Data):\")\n",
    "display(df.head())\n",
    "\n",
    "df = df.dropna(subset=['G3'])"
   ]
  },
  {
   "cell_type": "code",
   "execution_count": 4,
   "metadata": {},
   "outputs": [],
   "source": [
    "# encoding categorical features\n",
    "label_encoders = {}\n",
    "for col in df.select_dtypes(include=['object']).columns:\n",
    "    le = LabelEncoder()\n",
    "    df[col] = le.fit_transform(df[col])\n",
    "    label_encoders[col] = le"
   ]
  },
  {
   "cell_type": "code",
   "execution_count": 5,
   "metadata": {},
   "outputs": [],
   "source": [
    "# Normalizing numerical features for future reference (further optimization)\n",
    "\n",
    "scaler = StandardScaler()\n",
    "numeric_cols = df.select_dtypes(include=['int64', 'float64']).columns\n",
    "grade_cols = ['G1', 'G2', 'G3']\n",
    "numeric_cols = [col for col in df.select_dtypes(include=['int64', 'float64']).columns if col not in grade_cols]\n",
    "df[numeric_cols] = scaler.fit_transform(df[numeric_cols])"
   ]
  },
  {
   "cell_type": "markdown",
   "metadata": {},
   "source": [
    "## Optimization 1\n",
    "### Logistic Regression accuracy 0.93\n",
    "### Decision Tree accuracy  0.91"
   ]
  },
  {
   "cell_type": "code",
   "execution_count": null,
   "metadata": {},
   "outputs": [],
   "source": [
    "# # Optimization 1\n",
    "# # Feature Engineering \n",
    "# df['school_support'] = df['schoolsup']\n",
    "# df['family_support'] = df['famsup']\n",
    "\n",
    "# # Calculate average grade\n",
    "# df['average_grade'] = (df['G1']+df['G2']+df['G3']) / 3\n",
    "\n",
    "# # Create multi-class labels to fit the linear model\n",
    "# def categorize_g3(grade):\n",
    "#     if grade < 10:\n",
    "#         return 0  # Low\n",
    "#     elif 10 <= grade < 15:\n",
    "#         return 1  # Medium\n",
    "#     else:\n",
    "#         return 2  # High\n",
    "\n",
    "# # Create a new column that contains the corresponding category for each grade\n",
    "# df['G3_category'] = df['G3'].apply(categorize_g3)\n",
    "\n",
    "# # Defining features and target variable\n",
    "# X = df.drop(columns=['G3', 'G3_category'])\n",
    "# y = df['G3_category']\n",
    "\n",
    "# # Spliting the data into training and testing sets\n",
    "# X_train, X_test, y_train, y_test = train_test_split(\n",
    "#     X, y, test_size=0.2, random_state=42, stratify=y\n",
    "# )"
   ]
  },
  {
   "cell_type": "markdown",
   "metadata": {},
   "source": [
    "## Optimization 2\n",
    "### Logistic Regression accuracy 0.93\n",
    "### Decision Tree accuracy  0.91"
   ]
  },
  {
   "cell_type": "code",
   "execution_count": null,
   "metadata": {},
   "outputs": [],
   "source": [
    "# Optimization 2\n",
    "# Feature Engineering \n",
    "# for combined support\n",
    "# df['famsup_schoolsup'] = df['famsup']*df['schoolsup']\n",
    "\n",
    "# # Calculate average grade\n",
    "# df['average_grade'] = (df['G1']+df['G2']+df['G3']) / 3\n",
    "\n",
    "# # Create multi-class labels to fit the linear model\n",
    "# def categorize_g3(grade):\n",
    "#     if grade < 10:\n",
    "#         return 0  # Low\n",
    "#     elif 10 <= grade < 15:\n",
    "#         return 1  # Medium\n",
    "#     else:\n",
    "#         return 2  # High\n",
    "\n",
    "# # Create a new column that contains the corresponding category for each grade\n",
    "# df['G3_category'] = df['G3'].apply(categorize_g3)\n",
    "\n",
    "# # Defining features and target variable\n",
    "# X = df.drop(columns=['G3', 'G3_category'])\n",
    "# y = df['G3_category']\n",
    "\n",
    "# # Spliting the data into training and testing sets\n",
    "# X_train, X_test, y_train, y_test = train_test_split(\n",
    "#     X, y, test_size=0.2, random_state=42, stratify=y\n",
    "# ) "
   ]
  },
  {
   "cell_type": "markdown",
   "metadata": {},
   "source": [
    "## Optimization 3\n",
    "### Logistic Regression accuracy    0.93 \n",
    "### Decision Tree accuracy  0.92"
   ]
  },
  {
   "cell_type": "code",
   "execution_count": null,
   "metadata": {},
   "outputs": [],
   "source": [
    "# # Feature Engineering\n",
    "# # Support count\n",
    "# df['support_count'] = df['famsup'] + df['schoolsup'] + df['paid']\n",
    "\n",
    "# # Calculate average grade\n",
    "# df['average_grade'] = (df['G1']+df['G2']+df['G3']) / 3\n",
    "\n",
    "# # Create multi-class labels to fit the linear model\n",
    "# def categorize_g3(grade):\n",
    "#     if grade < 10:\n",
    "#         return 0  # Low\n",
    "#     elif 10 <= grade < 15:\n",
    "#         return 1  # Medium\n",
    "#     else:\n",
    "#         return 2  # High\n",
    "\n",
    "# # Create a new column that contains the corresponding category for each grade\n",
    "# df['G3_category'] = df['G3'].apply(categorize_g3)\n",
    "\n",
    "# # Defining features and target variable\n",
    "# X = df.drop(columns=['G3', 'G3_category'])\n",
    "# y = df['G3_category']\n",
    "\n",
    "# # Spliting the data into training and testing sets\n",
    "# X_train, X_test, y_train, y_test = train_test_split(\n",
    "#     X, y, test_size=0.2, random_state=42, stratify=y\n",
    "# ) "
   ]
  },
  {
   "cell_type": "markdown",
   "metadata": {},
   "source": [
    "## Optimization 4\n",
    "### Logistic Regression accuracy    .99 \n",
    "### Decision Tree accuracy  1.0"
   ]
  },
  {
   "cell_type": "code",
   "execution_count": 15,
   "metadata": {},
   "outputs": [],
   "source": [
    "# Optimization 4\n",
    "# Feature Engineering\n",
    "# Study Time and Paid Support (these don't affect the accuracy)\n",
    "# df['study_paid_interaction'] = df['paid'] * df['studytime']\n",
    "# df['study_time_1'] = df['studytime'] < 2\n",
    "# df['study_time_2'] = (df['studytime'] > 2) & (df['studytime'] < 5)\n",
    "# df['study_time_3'] = (df['studytime'] > 5) & (df['studytime'] < 10)\n",
    "# df['study_time_4'] = df['studytime'] > 10 \n",
    "\n",
    "# Calculate average grade\n",
    "df['average_grade'] = (df['G1']+df['G2']+df['G3']) / 3\n",
    "\n",
    "# Create multiclass labels to fit the linear model\n",
    "def categorize_g3(grade):\n",
    "    if grade < 10:\n",
    "        return 0    # At risk\n",
    "    elif 10 <= grade < 12:\n",
    "        return 1    # Moderate risk\n",
    "    elif 12 <= grade < 15:\n",
    "        return 2    # Low risk\n",
    "    else:\n",
    "        return 3    # Not at risk\n",
    "\n",
    "# Create a new column that contains the corresponding category for each grade\n",
    "df['risk_category'] = df['G3'].apply(categorize_g3)\n",
    "\n",
    "# Defining features and target variable\n",
    "X = df.drop(columns=['risk_category'])\n",
    "y = df['risk_category']\n",
    "\n",
    "# Spliting the data into training and testing sets\n",
    "X_train, X_test, y_train, y_test = train_test_split(\n",
    "    X, y, test_size=0.2, random_state=42, stratify=y\n",
    ") "
   ]
  },
  {
   "cell_type": "code",
   "execution_count": 16,
   "metadata": {},
   "outputs": [
    {
     "name": "stdout",
     "output_type": "stream",
     "text": [
      "Logistic Regression Model Evaluation:\n",
      "Accuracy: 0.9904306220095693\n",
      "Classification Report:\n",
      "              precision    recall  f1-score   support\n",
      "\n",
      "           0       1.00      0.96      0.98        46\n",
      "           1       0.97      1.00      0.98        61\n",
      "           2       1.00      1.00      1.00        61\n",
      "           3       1.00      1.00      1.00        41\n",
      "\n",
      "    accuracy                           0.99       209\n",
      "   macro avg       0.99      0.99      0.99       209\n",
      "weighted avg       0.99      0.99      0.99       209\n",
      "\n"
     ]
    }
   ],
   "source": [
    "# Baseline logistic regression model\n",
    "log_model = LogisticRegression(max_iter=1000, multi_class='multinomial', solver='lbfgs')\n",
    "log_model.fit(X_train, y_train)\n",
    "y_pred_log = log_model.predict(X_test)\n",
    "log_accuracy = accuracy_score(y_test, y_pred_log)\n",
    "print(\"Logistic Regression Model Evaluation:\")\n",
    "print(\"Accuracy:\", log_accuracy)\n",
    "print(\"Classification Report:\")\n",
    "print(classification_report(y_test, y_pred_log))"
   ]
  },
  {
   "cell_type": "code",
   "execution_count": 17,
   "metadata": {},
   "outputs": [
    {
     "name": "stdout",
     "output_type": "stream",
     "text": [
      "Decision Tree Model Evaluation:\n",
      "Accuracy: 1.0\n",
      "Classification Report:\n",
      "              precision    recall  f1-score   support\n",
      "\n",
      "           0       1.00      1.00      1.00        46\n",
      "           1       1.00      1.00      1.00        61\n",
      "           2       1.00      1.00      1.00        61\n",
      "           3       1.00      1.00      1.00        41\n",
      "\n",
      "    accuracy                           1.00       209\n",
      "   macro avg       1.00      1.00      1.00       209\n",
      "weighted avg       1.00      1.00      1.00       209\n",
      "\n"
     ]
    }
   ],
   "source": [
    "# baseline multi-class Decision Tree model\n",
    "tree_model = DecisionTreeClassifier(random_state=42)\n",
    "tree_model.fit(X_train, y_train)\n",
    "y_pred_tree = tree_model.predict(X_test)\n",
    "tree_accuracy = accuracy_score(y_test, y_pred_tree)\n",
    "print(\"Decision Tree Model Evaluation:\")\n",
    "print(\"Accuracy:\", tree_accuracy)\n",
    "print(\"Classification Report:\")\n",
    "print(classification_report(y_test, y_pred_tree))\n"
   ]
  },
  {
   "cell_type": "markdown",
   "metadata": {},
   "source": [
    "## Data Exploration and Visualization\n",
    "### Is there a relationship between a student being at-risk and access to extra support (educational support, family educational support, or extra paid classes within the course subject)?"
   ]
  },
  {
   "cell_type": "code",
   "execution_count": null,
   "metadata": {},
   "outputs": [],
   "source": [
    "# # Support Count vs Risk Category\n",
    "\n",
    "# # Count all forms of support\n",
    "# df['support_count'] = df['famsup'] + df['schoolsup'] + df['paid']\n",
    "\n",
    "# # Group by risk_category and sum the support_count\n",
    "# grouped_data = df.groupby('risk_category')['support_count'].sum().reset_index()\n",
    "\n",
    "# # Create chart\n",
    "# plt.figure(figsize=(10,6))\n",
    "\n",
    "# # Define colors based on risk category\n",
    "# colors = plt.cm.RdYlGn(np.linspace(0, 1, len(grouped_data['risk_category'])))\n",
    "\n",
    "# # Create the bar chart with specificed colors\n",
    "# plt.bar(grouped_data['risk_category'], grouped_data['support_count'], color=colors)\n",
    "\n",
    "# plt.title('Student Support Count vs Risk Category')\n",
    "# plt.xlabel('Risk Category')\n",
    "# plt.ylabel('Support Count')\n",
    "\n",
    "# # If risk_category is numeric, ensure only whole numbers are displayed\n",
    "# if grouped_data['risk_category'].dtype in ['int64', 'float64']:\n",
    "#     plt.xticks(ticks=grouped_data['risk_category'], labels=grouped_data['risk_category'].astype(int))\n",
    "\n",
    "# # Create custom handles for the legend\n",
    "\n",
    "# handles = [\n",
    "#     plt.Line2D([0], [0], color=colors[0], lw=4, label='0 - At Risk'),  \n",
    "#     plt.Line2D([0], [0], color=colors[1], lw=4, label='1 - Moderate Risk'),\n",
    "#     plt.Line2D([0], [0], color=colors[2], lw=4, label='2 - Low Risk'),\n",
    "#     plt.Line2D([0], [0], color=colors[3], lw=4, label='3 - Not at Risk')\n",
    "# ]\n",
    "\n",
    "# # Create a legend with custom labels only\n",
    "# plt.legend(handles=handles, title=\"Risk Category\")\n",
    "# plt.tight_layout()\n",
    "# plt.show()"
   ]
  },
  {
   "cell_type": "code",
   "execution_count": null,
   "metadata": {},
   "outputs": [
    {
     "data": {
      "image/png": "[encoded data removed]",
      "text/plain": [
       "<Figure size 1000x600 with 1 Axes>"
      ]
     },
     "metadata": {},
     "output_type": "display_data"
    }
   ],
   "source": [
    "# Support Count vs Risk Category\n",
    "\n",
    "# Reshape the dataframe using melt\n",
    "# Xpert Assistance supported\n",
    "melted_df = df.melt(id_vars = 'risk_category',\n",
    "                    value_vars=['famsup', 'schoolsup', 'paid'],\n",
    "                    var_name='Support Type',\n",
    "                    value_name='Support Count')\n",
    "\n",
    "# Convert 'Support Count' to numeric if it's 'Yes/No' instead of 1/0\n",
    "# ChatGPT supported\n",
    "melted_df['Support Count'] = melted_df['Support Count'].replace({'yes': 1, 'no': 0})\n",
    "\n",
    "# Aggregate counts by risk category and support type\n",
    "# ChatGPT supported\n",
    "pivot_df = melted_df.pivot_table(index='risk_category',\n",
    "                                 columns='Support Type',\n",
    "                                 values='Support Count',\n",
    "                                 aggfunc='sum',  # Summing up the support counts\n",
    "                                 fill_value=0)\n",
    "\n",
    "# Create the stacked bar chart\n",
    "pivot_df.plot(kind='bar', stacked=True, figsize=(10, 6), colormap='Set2')\n",
    "\n",
    "# Set title and labels\n",
    "plt.title('Support Types by Risk Category')\n",
    "plt.xlabel('Risk Category')\n",
    "plt.ylabel('Count of Support')\n",
    "\n",
    "# Rotate x-axis labels to be right-side up\n",
    "plt.xticks(rotation=0)\n",
    "\n",
    "plt.legend(title=\"Support Type\")\n",
    "plt.tight_layout()\n",
    "plt.show()"
   ]
  }
 ],
 "metadata": {
  "kernelspec": {
   "display_name": "dev",
   "language": "python",
   "name": "python3"
  },
  "language_info": {
   "codemirror_mode": {
    "name": "ipython",
    "version": 3
   },
   "file_extension": ".py",
   "mimetype": "text/x-python",
   "name": "python",
   "nbconvert_exporter": "python",
   "pygments_lexer": "ipython3",
   "version": "3.10.14"
  }
 },
 "nbformat": 4,
 "nbformat_minor": 2
}
