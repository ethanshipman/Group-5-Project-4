{
 "cells": [
  {
   "cell_type": "code",
   "execution_count": 1,
   "metadata": {},
   "outputs": [],
   "source": [
    "import sqlite3\n",
    "import pandas as pd"
   ]
  },
  {
   "cell_type": "code",
   "execution_count": 2,
   "metadata": {},
   "outputs": [],
   "source": [
    "# File paths\n",
    "stu_mat_path = \"Resources/stu_mat.csv\"\n",
    "stu_por_path = \"Resources/stu_por.csv\"\n",
    "db_path = \"student_performance.db\""
   ]
  },
  {
   "cell_type": "code",
   "execution_count": 3,
   "metadata": {},
   "outputs": [],
   "source": [
    "# Load CSV files\n",
    "df_mat = pd.read_csv(stu_mat_path)\n",
    "df_por = pd.read_csv(stu_por_path)\n",
    "\n",
    "# Connect to SQLite database\n",
    "conn = sqlite3.connect(db_path)\n",
    "cursor = conn.cursor()"
   ]
  },
  {
   "cell_type": "code",
   "execution_count": 4,
   "metadata": {},
   "outputs": [
    {
     "data": {
      "text/plain": [
       "<sqlite3.Cursor at 0x11afaff40>"
      ]
     },
     "execution_count": 4,
     "metadata": {},
     "output_type": "execute_result"
    }
   ],
   "source": [
    "# Create tables if they do not exist\n",
    "cursor.execute('''\n",
    "CREATE TABLE IF NOT EXISTS student_mat (\n",
    "    school TEXT, sex TEXT, age INTEGER, address TEXT, famsize TEXT,\n",
    "    Pstatus TEXT, Medu INTEGER, Fedu INTEGER, Mjob TEXT, Fjob TEXT,\n",
    "    reason TEXT, guardian TEXT, traveltime INTEGER, studytime INTEGER,\n",
    "    failures INTEGER, schoolsup TEXT, famsup TEXT, paid TEXT, activities TEXT,\n",
    "    nursery TEXT, higher TEXT, internet TEXT, romantic TEXT, famrel INTEGER,\n",
    "    freetime INTEGER, goout INTEGER, Dalc INTEGER, Walc INTEGER, health INTEGER,\n",
    "    absences INTEGER, G1 INTEGER, G2 INTEGER, G3 INTEGER\n",
    ");\n",
    "''')\n",
    "\n",
    "cursor.execute('''\n",
    "CREATE TABLE IF NOT EXISTS student_por (\n",
    "    school TEXT, sex TEXT, age INTEGER, address TEXT, famsize TEXT,\n",
    "    Pstatus TEXT, Medu INTEGER, Fedu INTEGER, Mjob TEXT, Fjob TEXT,\n",
    "    reason TEXT, guardian TEXT, traveltime INTEGER, studytime INTEGER,\n",
    "    failures INTEGER, schoolsup TEXT, famsup TEXT, paid TEXT, activities TEXT,\n",
    "    nursery TEXT, higher TEXT, internet TEXT, romantic TEXT, famrel INTEGER,\n",
    "    freetime INTEGER, goout INTEGER, Dalc INTEGER, Walc INTEGER, health INTEGER,\n",
    "    absences INTEGER, G1 INTEGER, G2 INTEGER, G3 INTEGER\n",
    ");\n",
    "''')"
   ]
  },
  {
   "cell_type": "code",
   "execution_count": null,
   "metadata": {},
   "outputs": [],
   "source": [
    "# Insert data into tables (replace existing records)\n",
    "df_mat.to_sql(\"student_mat\", conn, if_exists=\"replace\", index=False)\n",
    "df_por.to_sql(\"student_por\", conn, if_exists=\"replace\", index=False)\n",
    "\n",
    "# Commit and close connection\n",
    "conn.commit()\n",
    "conn.close()"
   ]
  },
  {
   "cell_type": "code",
   "execution_count": null,
   "metadata": {},
   "outputs": [],
   "source": []
  }
 ],
 "metadata": {
  "kernelspec": {
   "display_name": "dev",
   "language": "python",
   "name": "python3"
  },
  "language_info": {
   "codemirror_mode": {
    "name": "ipython",
    "version": 3
   },
   "file_extension": ".py",
   "mimetype": "text/x-python",
   "name": "python",
   "nbconvert_exporter": "python",
   "pygments_lexer": "ipython3",
   "version": "3.10.16"
  }
 },
 "nbformat": 4,
 "nbformat_minor": 2
}
